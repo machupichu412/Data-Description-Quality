{
 "cells": [
  {
   "cell_type": "code",
   "execution_count": 1,
   "metadata": {},
   "outputs": [],
   "source": [
    "import pandas as pd"
   ]
  },
  {
   "cell_type": "code",
   "execution_count": 10,
   "metadata": {},
   "outputs": [],
   "source": [
    "# list of fail files:\n",
    "fail_files = [\"data/reverse_engineered_ST02_MLGCS.json\", \"data/reverse_engineered_Commercial_NRT.json\"]\n",
    "\n",
    "# list of pass files:\n",
    "# finish  \"data/pass_reasoning_Commercial_NRT.json\" later\n",
    "pass_files = [\"data/pass_reasoning_ST02_MLGCS.json\"]"
   ]
  },
  {
   "cell_type": "code",
   "execution_count": 20,
   "metadata": {},
   "outputs": [],
   "source": [
    "# read in all fail files, and concatenate them into a single dataframe\n",
    "\n",
    "fail_df = pd.DataFrame()\n",
    "for file in fail_files:\n",
    "    df = pd.read_json(file)\n",
    "    df['fail'] = True\n",
    "    fail_df = pd.concat([fail_df, df])\n",
    "\n",
    "# read in all pass files, and concatenate them into a single dataframe\n",
    "\n",
    "pass_df = pd.DataFrame()\n",
    "for file in pass_files:\n",
    "    df = pd.read_json(file)\n",
    "    df['fail'] = False\n",
    "    pass_df = pd.concat([pass_df, df])"
   ]
  },
  {
   "cell_type": "code",
   "execution_count": 21,
   "metadata": {},
   "outputs": [
    {
     "data": {
      "text/html": [
       "<div>\n",
       "<style scoped>\n",
       "    .dataframe tbody tr th:only-of-type {\n",
       "        vertical-align: middle;\n",
       "    }\n",
       "\n",
       "    .dataframe tbody tr th {\n",
       "        vertical-align: top;\n",
       "    }\n",
       "\n",
       "    .dataframe thead th {\n",
       "        text-align: right;\n",
       "    }\n",
       "</style>\n",
       "<table border=\"1\" class=\"dataframe\">\n",
       "  <thead>\n",
       "    <tr style=\"text-align: right;\">\n",
       "      <th></th>\n",
       "      <th>description</th>\n",
       "      <th>comment</th>\n",
       "      <th>fail</th>\n",
       "    </tr>\n",
       "  </thead>\n",
       "  <tbody>\n",
       "    <tr>\n",
       "      <th>0</th>\n",
       "      <td>This table contains the details for case resol...</td>\n",
       "      <td>Add the source and source table names and grai...</td>\n",
       "      <td>True</td>\n",
       "    </tr>\n",
       "    <tr>\n",
       "      <th>1</th>\n",
       "      <td>This table contains Customer data. It is a SCD...</td>\n",
       "      <td>Add the source and source table names and grai...</td>\n",
       "      <td>True</td>\n",
       "    </tr>\n",
       "    <tr>\n",
       "      <th>2</th>\n",
       "      <td>This attribute is derived using decode logic o...</td>\n",
       "      <td>It is not a decode logic. change accordingly.\\...</td>\n",
       "      <td>True</td>\n",
       "    </tr>\n",
       "    <tr>\n",
       "      <th>3</th>\n",
       "      <td>This is a reference key to DimDate table to ge...</td>\n",
       "      <td>If it is a direct mapping to Commerical attrib...</td>\n",
       "      <td>True</td>\n",
       "    </tr>\n",
       "    <tr>\n",
       "      <th>4</th>\n",
       "      <td>This is a reference key to DimTime table to ge...</td>\n",
       "      <td>If it is a direct mapping to Commerical attrib...</td>\n",
       "      <td>True</td>\n",
       "    </tr>\n",
       "  </tbody>\n",
       "</table>\n",
       "</div>"
      ],
      "text/plain": [
       "                                         description  \\\n",
       "0  This table contains the details for case resol...   \n",
       "1  This table contains Customer data. It is a SCD...   \n",
       "2  This attribute is derived using decode logic o...   \n",
       "3  This is a reference key to DimDate table to ge...   \n",
       "4  This is a reference key to DimTime table to ge...   \n",
       "\n",
       "                                             comment  fail  \n",
       "0  Add the source and source table names and grai...  True  \n",
       "1  Add the source and source table names and grai...  True  \n",
       "2  It is not a decode logic. change accordingly.\\...  True  \n",
       "3  If it is a direct mapping to Commerical attrib...  True  \n",
       "4  If it is a direct mapping to Commerical attrib...  True  "
      ]
     },
     "execution_count": 21,
     "metadata": {},
     "output_type": "execute_result"
    }
   ],
   "source": [
    "#rename reverse_engineered_description column to description\n",
    "fail_df = fail_df.rename(columns={\"reverse_engineered_description\": \"description\"})\n",
    "# drop final_description column\n",
    "fail_df = fail_df.drop(columns=['final_description'])\n",
    "fail_df.head()"
   ]
  },
  {
   "cell_type": "code",
   "execution_count": 22,
   "metadata": {},
   "outputs": [
    {
     "data": {
      "text/html": [
       "<div>\n",
       "<style scoped>\n",
       "    .dataframe tbody tr th:only-of-type {\n",
       "        vertical-align: middle;\n",
       "    }\n",
       "\n",
       "    .dataframe tbody tr th {\n",
       "        vertical-align: top;\n",
       "    }\n",
       "\n",
       "    .dataframe thead th {\n",
       "        text-align: right;\n",
       "    }\n",
       "</style>\n",
       "<table border=\"1\" class=\"dataframe\">\n",
       "  <thead>\n",
       "    <tr style=\"text-align: right;\">\n",
       "      <th></th>\n",
       "      <th>description</th>\n",
       "      <th>comment</th>\n",
       "      <th>fail</th>\n",
       "    </tr>\n",
       "  </thead>\n",
       "  <tbody>\n",
       "    <tr>\n",
       "      <th>0</th>\n",
       "      <td>This table contains details for issue and reso...</td>\n",
       "      <td>The description contains source information by...</td>\n",
       "      <td>False</td>\n",
       "    </tr>\n",
       "    <tr>\n",
       "      <th>1</th>\n",
       "      <td>Surrogate key  generated on  SupportTopicFullP...</td>\n",
       "      <td>The description includes source information by...</td>\n",
       "      <td>False</td>\n",
       "    </tr>\n",
       "    <tr>\n",
       "      <th>2</th>\n",
       "      <td>Timestamp in UTC at which record is inserted b...</td>\n",
       "      <td>This description indicates the source as UDP a...</td>\n",
       "      <td>False</td>\n",
       "    </tr>\n",
       "    <tr>\n",
       "      <th>3</th>\n",
       "      <td>Timestamp in UTC at which record is updated by...</td>\n",
       "      <td>The description provides the source, UDP, poin...</td>\n",
       "      <td>False</td>\n",
       "    </tr>\n",
       "    <tr>\n",
       "      <th>4</th>\n",
       "      <td>Direct mapping to column SupportTopicFullPath ...</td>\n",
       "      <td>This description provides essential source inf...</td>\n",
       "      <td>False</td>\n",
       "    </tr>\n",
       "  </tbody>\n",
       "</table>\n",
       "</div>"
      ],
      "text/plain": [
       "                                         description  \\\n",
       "0  This table contains details for issue and reso...   \n",
       "1  Surrogate key  generated on  SupportTopicFullP...   \n",
       "2  Timestamp in UTC at which record is inserted b...   \n",
       "3  Timestamp in UTC at which record is updated by...   \n",
       "4  Direct mapping to column SupportTopicFullPath ...   \n",
       "\n",
       "                                             comment   fail  \n",
       "0  The description contains source information by...  False  \n",
       "1  The description includes source information by...  False  \n",
       "2  This description indicates the source as UDP a...  False  \n",
       "3  The description provides the source, UDP, poin...  False  \n",
       "4  This description provides essential source inf...  False  "
      ]
     },
     "execution_count": 22,
     "metadata": {},
     "output_type": "execute_result"
    }
   ],
   "source": [
    "# rename final_description column to description\n",
    "pass_df = pass_df.rename(columns={\"final_description\": \"description\"})\n",
    "pass_df.head()"
   ]
  },
  {
   "cell_type": "code",
   "execution_count": 23,
   "metadata": {},
   "outputs": [
    {
     "data": {
      "text/html": [
       "<div>\n",
       "<style scoped>\n",
       "    .dataframe tbody tr th:only-of-type {\n",
       "        vertical-align: middle;\n",
       "    }\n",
       "\n",
       "    .dataframe tbody tr th {\n",
       "        vertical-align: top;\n",
       "    }\n",
       "\n",
       "    .dataframe thead th {\n",
       "        text-align: right;\n",
       "    }\n",
       "</style>\n",
       "<table border=\"1\" class=\"dataframe\">\n",
       "  <thead>\n",
       "    <tr style=\"text-align: right;\">\n",
       "      <th></th>\n",
       "      <th>description</th>\n",
       "      <th>comment</th>\n",
       "      <th>fail</th>\n",
       "    </tr>\n",
       "  </thead>\n",
       "  <tbody>\n",
       "    <tr>\n",
       "      <th>0</th>\n",
       "      <td>This table contains the details for case resol...</td>\n",
       "      <td>Add the source and source table names and grai...</td>\n",
       "      <td>True</td>\n",
       "    </tr>\n",
       "    <tr>\n",
       "      <th>1</th>\n",
       "      <td>This table contains Customer data. It is a SCD...</td>\n",
       "      <td>Add the source and source table names and grai...</td>\n",
       "      <td>True</td>\n",
       "    </tr>\n",
       "    <tr>\n",
       "      <th>2</th>\n",
       "      <td>This attribute is derived using decode logic o...</td>\n",
       "      <td>It is not a decode logic. change accordingly.\\...</td>\n",
       "      <td>True</td>\n",
       "    </tr>\n",
       "    <tr>\n",
       "      <th>3</th>\n",
       "      <td>This is a reference key to DimDate table to ge...</td>\n",
       "      <td>If it is a direct mapping to Commerical attrib...</td>\n",
       "      <td>True</td>\n",
       "    </tr>\n",
       "    <tr>\n",
       "      <th>4</th>\n",
       "      <td>This is a reference key to DimTime table to ge...</td>\n",
       "      <td>If it is a direct mapping to Commerical attrib...</td>\n",
       "      <td>True</td>\n",
       "    </tr>\n",
       "  </tbody>\n",
       "</table>\n",
       "</div>"
      ],
      "text/plain": [
       "                                         description  \\\n",
       "0  This table contains the details for case resol...   \n",
       "1  This table contains Customer data. It is a SCD...   \n",
       "2  This attribute is derived using decode logic o...   \n",
       "3  This is a reference key to DimDate table to ge...   \n",
       "4  This is a reference key to DimTime table to ge...   \n",
       "\n",
       "                                             comment  fail  \n",
       "0  Add the source and source table names and grai...  True  \n",
       "1  Add the source and source table names and grai...  True  \n",
       "2  It is not a decode logic. change accordingly.\\...  True  \n",
       "3  If it is a direct mapping to Commerical attrib...  True  \n",
       "4  If it is a direct mapping to Commerical attrib...  True  "
      ]
     },
     "execution_count": 23,
     "metadata": {},
     "output_type": "execute_result"
    }
   ],
   "source": [
    "# concatenate the fail and pass dataframes into a single dataframe\n",
    "df = pd.concat([fail_df, pass_df])\n",
    "df.head()"
   ]
  },
  {
   "cell_type": "code",
   "execution_count": 25,
   "metadata": {},
   "outputs": [
    {
     "data": {
      "text/plain": [
       "fail\n",
       "False    349\n",
       "True     202\n",
       "Name: count, dtype: int64"
      ]
     },
     "execution_count": 25,
     "metadata": {},
     "output_type": "execute_result"
    }
   ],
   "source": [
    "# hold out 10% of the data for testing\n",
    "from sklearn.model_selection import train_test_split\n",
    "train_df, test_df = train_test_split(df, test_size=0.1)\n",
    "\n",
    "train_df.value_counts(\"fail\")\n",
    "\n"
   ]
  },
  {
   "cell_type": "code",
   "execution_count": 29,
   "metadata": {},
   "outputs": [
    {
     "data": {
      "text/plain": [
       "fail\n",
       "False    34\n",
       "True     28\n",
       "Name: count, dtype: int64"
      ]
     },
     "execution_count": 29,
     "metadata": {},
     "output_type": "execute_result"
    }
   ],
   "source": [
    "test_df.value_counts(\"fail\")"
   ]
  },
  {
   "cell_type": "code",
   "execution_count": 30,
   "metadata": {},
   "outputs": [],
   "source": [
    "system_msg = \"\"\"You are a helpful AI assistant that reviews technical descriptions for data entities and attributes.\n",
    "Your task is to determine whether the description meets quality standards. If it does, respond with **Pass**. If not, respond with **Fail**.\n",
    "- A **Pass** means the description is clear, complete, and accurately describes the attribute and its source.\n",
    "- A **Fail** means the description lacks clarity, completeness, or essential details.\n",
    "Please provide a short explanation for your decision.\n",
    "Your output format should be:\n",
    "Reason: <your explanation>  \n",
    "Decision: Pass or Fail\"\"\"\n",
    "\n",
    "# output to jsonl files with format:\n",
    "# {text: “<|system|>{system_msg}<|end|><|user|>{user_msg}<|end|><|assistant|>{assistant_msg}”}\n",
    "\n",
    "# train data\n",
    "with open(\"data/train_ALL.jsonl\", \"w\") as f:\n",
    "    for i, row in train_df.iterrows():\n",
    "        user_msg = f\"Description: {row['description']}\"\n",
    "        assistant_msg = f\"Reason: {row['comment']}\\nDecision: {'Pass' if row['fail'] == False else 'Fail'}\"\n",
    "        f.write(f'{{\"text\": \"<|system|>{system_msg}<|end|><|user|>{user_msg}<|end|><|assistant|>{assistant_msg}\"}}\\n')\n",
    "\n",
    "# test data\n",
    "with open(\"data/test_ALL.jsonl\", \"w\") as f:\n",
    "    for i, row in test_df.iterrows():\n",
    "        user_msg = f\"Description: {row['description']}\"\n",
    "        assistant_msg = f\"Reason: {row['comment']}\\nDecision: {'Pass' if row['fail'] == False else 'Fail'}\"\n",
    "        f.write(f'{{\"text\": \"<|system|>{system_msg}<|end|><|user|>{user_msg}<|end|><|assistant|>{assistant_msg}\"}}\\n')"
   ]
  },
  {
   "cell_type": "code",
   "execution_count": null,
   "metadata": {},
   "outputs": [],
   "source": []
  }
 ],
 "metadata": {
  "kernelspec": {
   "display_name": ".venv",
   "language": "python",
   "name": "python3"
  },
  "language_info": {
   "codemirror_mode": {
    "name": "ipython",
    "version": 3
   },
   "file_extension": ".py",
   "mimetype": "text/x-python",
   "name": "python",
   "nbconvert_exporter": "python",
   "pygments_lexer": "ipython3",
   "version": "3.12.3"
  }
 },
 "nbformat": 4,
 "nbformat_minor": 2
}
