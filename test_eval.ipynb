{
 "cells": [
  {
   "cell_type": "code",
   "execution_count": 35,
   "metadata": {},
   "outputs": [],
   "source": [
    "import pandas as pd"
   ]
  },
  {
   "cell_type": "code",
   "execution_count": 36,
   "metadata": {},
   "outputs": [],
   "source": [
    "# read in jsonl file\n",
    "test_data = pd.read_json('data/test.jsonl', lines=True)"
   ]
  },
  {
   "cell_type": "code",
   "execution_count": 37,
   "metadata": {},
   "outputs": [],
   "source": [
    "# read in predictions\n",
    "predictions = pd.read_json('inference_results.json')"
   ]
  },
  {
   "cell_type": "code",
   "execution_count": 38,
   "metadata": {},
   "outputs": [
    {
     "data": {
      "text/html": [
       "<div>\n",
       "<style scoped>\n",
       "    .dataframe tbody tr th:only-of-type {\n",
       "        vertical-align: middle;\n",
       "    }\n",
       "\n",
       "    .dataframe tbody tr th {\n",
       "        vertical-align: top;\n",
       "    }\n",
       "\n",
       "    .dataframe thead th {\n",
       "        text-align: right;\n",
       "    }\n",
       "</style>\n",
       "<table border=\"1\" class=\"dataframe\">\n",
       "  <thead>\n",
       "    <tr style=\"text-align: right;\">\n",
       "      <th></th>\n",
       "      <th>index</th>\n",
       "      <th>label</th>\n",
       "      <th>text</th>\n",
       "    </tr>\n",
       "  </thead>\n",
       "  <tbody>\n",
       "    <tr>\n",
       "      <th>0</th>\n",
       "      <td>1</td>\n",
       "      <td>Pass</td>\n",
       "      <td>Direct Mapping to CaseNumber column in KPI tab...</td>\n",
       "    </tr>\n",
       "    <tr>\n",
       "      <th>1</th>\n",
       "      <td>2</td>\n",
       "      <td>Pass</td>\n",
       "      <td>This is reference key to the DimDataSource tab...</td>\n",
       "    </tr>\n",
       "    <tr>\n",
       "      <th>2</th>\n",
       "      <td>3</td>\n",
       "      <td>Fail</td>\n",
       "      <td>Derived by applying decode logic based on Reop...</td>\n",
       "    </tr>\n",
       "    <tr>\n",
       "      <th>3</th>\n",
       "      <td>4</td>\n",
       "      <td>Pass</td>\n",
       "      <td>Derived by applying decode logic on SRCreation...</td>\n",
       "    </tr>\n",
       "    <tr>\n",
       "      <th>4</th>\n",
       "      <td>5</td>\n",
       "      <td>Fail</td>\n",
       "      <td>Direct Mapping to State column in Cases table ...</td>\n",
       "    </tr>\n",
       "  </tbody>\n",
       "</table>\n",
       "</div>"
      ],
      "text/plain": [
       "   index label                                               text\n",
       "0      1  Pass  Direct Mapping to CaseNumber column in KPI tab...\n",
       "1      2  Pass  This is reference key to the DimDataSource tab...\n",
       "2      3  Fail  Derived by applying decode logic based on Reop...\n",
       "3      4  Pass  Derived by applying decode logic on SRCreation...\n",
       "4      5  Fail  Direct Mapping to State column in Cases table ..."
      ]
     },
     "execution_count": 38,
     "metadata": {},
     "output_type": "execute_result"
    }
   ],
   "source": [
    "predictions.head()"
   ]
  },
  {
   "cell_type": "code",
   "execution_count": 39,
   "metadata": {},
   "outputs": [
    {
     "data": {
      "text/plain": [
       "[{'role': 'system',\n",
       "  'content': \"You are an AI text quality reviewer tool. Your task is to review technical descriptions for data entities and attributes. Based on the quality of the description, you will output either 'Pass' or 'Fail'.\\n'Pass' means the description meets the quality standards and provides clear, accurate, and complete information.\\n'Fail' means the description does not meet the required standards, and you must provide a specific reason for the failure.\\nYour output format will be: <Pass or Fail>, <N/A or reason for failure>\"},\n",
       " {'role': 'user',\n",
       "  'content': 'Direct Mapping to CaseNumber column in KPI table coming from DFM Events data processed by Cornerstone having string values.'},\n",
       " {'role': 'assistant', 'content': 'pass, N/A'}]"
      ]
     },
     "execution_count": 39,
     "metadata": {},
     "output_type": "execute_result"
    }
   ],
   "source": [
    "test_data.iloc[0]['messages']"
   ]
  },
  {
   "cell_type": "code",
   "execution_count": 40,
   "metadata": {},
   "outputs": [
    {
     "data": {
      "text/html": [
       "<div>\n",
       "<style scoped>\n",
       "    .dataframe tbody tr th:only-of-type {\n",
       "        vertical-align: middle;\n",
       "    }\n",
       "\n",
       "    .dataframe tbody tr th {\n",
       "        vertical-align: top;\n",
       "    }\n",
       "\n",
       "    .dataframe thead th {\n",
       "        text-align: right;\n",
       "    }\n",
       "</style>\n",
       "<table border=\"1\" class=\"dataframe\">\n",
       "  <thead>\n",
       "    <tr style=\"text-align: right;\">\n",
       "      <th></th>\n",
       "      <th>role_system</th>\n",
       "      <th>role_user</th>\n",
       "      <th>role_assistant</th>\n",
       "    </tr>\n",
       "  </thead>\n",
       "  <tbody>\n",
       "    <tr>\n",
       "      <th>0</th>\n",
       "      <td>You are an AI text quality reviewer tool. Your...</td>\n",
       "      <td>Direct Mapping to CaseNumber column in KPI tab...</td>\n",
       "      <td>pass, N/A</td>\n",
       "    </tr>\n",
       "    <tr>\n",
       "      <th>1</th>\n",
       "      <td>You are an AI text quality reviewer tool. Your...</td>\n",
       "      <td>This is reference key to the DimDataSource tab...</td>\n",
       "      <td>pass, N/A</td>\n",
       "    </tr>\n",
       "    <tr>\n",
       "      <th>2</th>\n",
       "      <td>You are an AI text quality reviewer tool. Your...</td>\n",
       "      <td>Derived by applying decode logic based on Reop...</td>\n",
       "      <td>pass, N/A</td>\n",
       "    </tr>\n",
       "    <tr>\n",
       "      <th>3</th>\n",
       "      <td>You are an AI text quality reviewer tool. Your...</td>\n",
       "      <td>Derived by applying decode logic on SRCreation...</td>\n",
       "      <td>fail, What is significance of FI, please defin...</td>\n",
       "    </tr>\n",
       "    <tr>\n",
       "      <th>4</th>\n",
       "      <td>You are an AI text quality reviewer tool. Your...</td>\n",
       "      <td>Direct Mapping to State column in Cases table ...</td>\n",
       "      <td>pass, N/A</td>\n",
       "    </tr>\n",
       "  </tbody>\n",
       "</table>\n",
       "</div>"
      ],
      "text/plain": [
       "                                         role_system  \\\n",
       "0  You are an AI text quality reviewer tool. Your...   \n",
       "1  You are an AI text quality reviewer tool. Your...   \n",
       "2  You are an AI text quality reviewer tool. Your...   \n",
       "3  You are an AI text quality reviewer tool. Your...   \n",
       "4  You are an AI text quality reviewer tool. Your...   \n",
       "\n",
       "                                           role_user  \\\n",
       "0  Direct Mapping to CaseNumber column in KPI tab...   \n",
       "1  This is reference key to the DimDataSource tab...   \n",
       "2  Derived by applying decode logic based on Reop...   \n",
       "3  Derived by applying decode logic on SRCreation...   \n",
       "4  Direct Mapping to State column in Cases table ...   \n",
       "\n",
       "                                      role_assistant  \n",
       "0                                          pass, N/A  \n",
       "1                                          pass, N/A  \n",
       "2                                          pass, N/A  \n",
       "3  fail, What is significance of FI, please defin...  \n",
       "4                                          pass, N/A  "
      ]
     },
     "execution_count": 40,
     "metadata": {},
     "output_type": "execute_result"
    }
   ],
   "source": [
    "# split each test message into columns in the dataframe\n",
    "# each value int the messages column is a list of dictionaries\n",
    "# each dictionary is a message\n",
    "# we want to split these into columns\n",
    "# we will have a column for each key in the dictionary\n",
    "# we will have a row for each message\n",
    "\n",
    "def split_messages(messages):\n",
    "    message_dict = {}\n",
    "    for message in messages:\n",
    "        col = \"role\" + \"_\" + message[\"role\"]\n",
    "        message_dict[col] = message[\"content\"]\n",
    "    return pd.Series(message_dict)\n",
    "\n",
    "test_data_processed = test_data['messages'].apply(split_messages)\n",
    "test_data_processed.head()\n",
    "\n"
   ]
  },
  {
   "cell_type": "code",
   "execution_count": 41,
   "metadata": {},
   "outputs": [],
   "source": [
    "# add label column to the dataframe (first word of role_assistant is the label \"pass\" or \"fail\")\n",
    "def get_label(messages):\n",
    "    return messages.split(\", \")[0]\n",
    "\n",
    "test_data_processed['real_label'] = test_data_processed['role_assistant'].apply(get_label)"
   ]
  },
  {
   "cell_type": "code",
   "execution_count": 42,
   "metadata": {},
   "outputs": [
    {
     "data": {
      "text/html": [
       "<div>\n",
       "<style scoped>\n",
       "    .dataframe tbody tr th:only-of-type {\n",
       "        vertical-align: middle;\n",
       "    }\n",
       "\n",
       "    .dataframe tbody tr th {\n",
       "        vertical-align: top;\n",
       "    }\n",
       "\n",
       "    .dataframe thead th {\n",
       "        text-align: right;\n",
       "    }\n",
       "</style>\n",
       "<table border=\"1\" class=\"dataframe\">\n",
       "  <thead>\n",
       "    <tr style=\"text-align: right;\">\n",
       "      <th></th>\n",
       "      <th>role_system</th>\n",
       "      <th>role_user</th>\n",
       "      <th>role_assistant</th>\n",
       "      <th>real_label</th>\n",
       "    </tr>\n",
       "  </thead>\n",
       "  <tbody>\n",
       "    <tr>\n",
       "      <th>0</th>\n",
       "      <td>You are an AI text quality reviewer tool. Your...</td>\n",
       "      <td>Direct Mapping to CaseNumber column in KPI tab...</td>\n",
       "      <td>pass, N/A</td>\n",
       "      <td>pass</td>\n",
       "    </tr>\n",
       "    <tr>\n",
       "      <th>1</th>\n",
       "      <td>You are an AI text quality reviewer tool. Your...</td>\n",
       "      <td>This is reference key to the DimDataSource tab...</td>\n",
       "      <td>pass, N/A</td>\n",
       "      <td>pass</td>\n",
       "    </tr>\n",
       "    <tr>\n",
       "      <th>2</th>\n",
       "      <td>You are an AI text quality reviewer tool. Your...</td>\n",
       "      <td>Derived by applying decode logic based on Reop...</td>\n",
       "      <td>pass, N/A</td>\n",
       "      <td>pass</td>\n",
       "    </tr>\n",
       "    <tr>\n",
       "      <th>3</th>\n",
       "      <td>You are an AI text quality reviewer tool. Your...</td>\n",
       "      <td>Derived by applying decode logic on SRCreation...</td>\n",
       "      <td>fail, What is significance of FI, please defin...</td>\n",
       "      <td>fail</td>\n",
       "    </tr>\n",
       "    <tr>\n",
       "      <th>4</th>\n",
       "      <td>You are an AI text quality reviewer tool. Your...</td>\n",
       "      <td>Direct Mapping to State column in Cases table ...</td>\n",
       "      <td>pass, N/A</td>\n",
       "      <td>pass</td>\n",
       "    </tr>\n",
       "  </tbody>\n",
       "</table>\n",
       "</div>"
      ],
      "text/plain": [
       "                                         role_system  \\\n",
       "0  You are an AI text quality reviewer tool. Your...   \n",
       "1  You are an AI text quality reviewer tool. Your...   \n",
       "2  You are an AI text quality reviewer tool. Your...   \n",
       "3  You are an AI text quality reviewer tool. Your...   \n",
       "4  You are an AI text quality reviewer tool. Your...   \n",
       "\n",
       "                                           role_user  \\\n",
       "0  Direct Mapping to CaseNumber column in KPI tab...   \n",
       "1  This is reference key to the DimDataSource tab...   \n",
       "2  Derived by applying decode logic based on Reop...   \n",
       "3  Derived by applying decode logic on SRCreation...   \n",
       "4  Direct Mapping to State column in Cases table ...   \n",
       "\n",
       "                                      role_assistant real_label  \n",
       "0                                          pass, N/A       pass  \n",
       "1                                          pass, N/A       pass  \n",
       "2                                          pass, N/A       pass  \n",
       "3  fail, What is significance of FI, please defin...       fail  \n",
       "4                                          pass, N/A       pass  "
      ]
     },
     "execution_count": 42,
     "metadata": {},
     "output_type": "execute_result"
    }
   ],
   "source": [
    "test_data_processed.head()"
   ]
  },
  {
   "cell_type": "code",
   "execution_count": 43,
   "metadata": {},
   "outputs": [],
   "source": [
    "# fail is 1, pass is 0\n",
    "test_data_processed['real_label'] = test_data_processed['real_label'].apply(lambda x: 1 if x == \"fail\" else 0)\n",
    "predictions['pred_label'] = predictions['label'].apply(lambda x: 1 if x == \"Fail\" else 0)"
   ]
  },
  {
   "cell_type": "code",
   "execution_count": 44,
   "metadata": {},
   "outputs": [],
   "source": [
    "# merge the two dataframes on 'text' and 'role_user'\n",
    "\n",
    "merged = pd.merge(test_data_processed, predictions, left_on=['role_user'], right_on=['text'])\n"
   ]
  },
  {
   "cell_type": "code",
   "execution_count": 45,
   "metadata": {},
   "outputs": [
    {
     "data": {
      "text/html": [
       "<div>\n",
       "<style scoped>\n",
       "    .dataframe tbody tr th:only-of-type {\n",
       "        vertical-align: middle;\n",
       "    }\n",
       "\n",
       "    .dataframe tbody tr th {\n",
       "        vertical-align: top;\n",
       "    }\n",
       "\n",
       "    .dataframe thead th {\n",
       "        text-align: right;\n",
       "    }\n",
       "</style>\n",
       "<table border=\"1\" class=\"dataframe\">\n",
       "  <thead>\n",
       "    <tr style=\"text-align: right;\">\n",
       "      <th></th>\n",
       "      <th>role_system</th>\n",
       "      <th>role_user</th>\n",
       "      <th>role_assistant</th>\n",
       "      <th>real_label</th>\n",
       "      <th>index</th>\n",
       "      <th>label</th>\n",
       "      <th>text</th>\n",
       "      <th>pred_label</th>\n",
       "    </tr>\n",
       "  </thead>\n",
       "  <tbody>\n",
       "    <tr>\n",
       "      <th>0</th>\n",
       "      <td>You are an AI text quality reviewer tool. Your...</td>\n",
       "      <td>Direct Mapping to CaseNumber column in KPI tab...</td>\n",
       "      <td>pass, N/A</td>\n",
       "      <td>0</td>\n",
       "      <td>1</td>\n",
       "      <td>Pass</td>\n",
       "      <td>Direct Mapping to CaseNumber column in KPI tab...</td>\n",
       "      <td>0</td>\n",
       "    </tr>\n",
       "    <tr>\n",
       "      <th>1</th>\n",
       "      <td>You are an AI text quality reviewer tool. Your...</td>\n",
       "      <td>This is reference key to the DimDataSource tab...</td>\n",
       "      <td>pass, N/A</td>\n",
       "      <td>0</td>\n",
       "      <td>2</td>\n",
       "      <td>Pass</td>\n",
       "      <td>This is reference key to the DimDataSource tab...</td>\n",
       "      <td>0</td>\n",
       "    </tr>\n",
       "    <tr>\n",
       "      <th>2</th>\n",
       "      <td>You are an AI text quality reviewer tool. Your...</td>\n",
       "      <td>Derived by applying decode logic based on Reop...</td>\n",
       "      <td>pass, N/A</td>\n",
       "      <td>0</td>\n",
       "      <td>3</td>\n",
       "      <td>Fail</td>\n",
       "      <td>Derived by applying decode logic based on Reop...</td>\n",
       "      <td>1</td>\n",
       "    </tr>\n",
       "    <tr>\n",
       "      <th>3</th>\n",
       "      <td>You are an AI text quality reviewer tool. Your...</td>\n",
       "      <td>Derived by applying decode logic on SRCreation...</td>\n",
       "      <td>fail, What is significance of FI, please defin...</td>\n",
       "      <td>1</td>\n",
       "      <td>4</td>\n",
       "      <td>Pass</td>\n",
       "      <td>Derived by applying decode logic on SRCreation...</td>\n",
       "      <td>0</td>\n",
       "    </tr>\n",
       "    <tr>\n",
       "      <th>4</th>\n",
       "      <td>You are an AI text quality reviewer tool. Your...</td>\n",
       "      <td>Direct Mapping to State column in Cases table ...</td>\n",
       "      <td>pass, N/A</td>\n",
       "      <td>0</td>\n",
       "      <td>5</td>\n",
       "      <td>Fail</td>\n",
       "      <td>Direct Mapping to State column in Cases table ...</td>\n",
       "      <td>1</td>\n",
       "    </tr>\n",
       "  </tbody>\n",
       "</table>\n",
       "</div>"
      ],
      "text/plain": [
       "                                         role_system  \\\n",
       "0  You are an AI text quality reviewer tool. Your...   \n",
       "1  You are an AI text quality reviewer tool. Your...   \n",
       "2  You are an AI text quality reviewer tool. Your...   \n",
       "3  You are an AI text quality reviewer tool. Your...   \n",
       "4  You are an AI text quality reviewer tool. Your...   \n",
       "\n",
       "                                           role_user  \\\n",
       "0  Direct Mapping to CaseNumber column in KPI tab...   \n",
       "1  This is reference key to the DimDataSource tab...   \n",
       "2  Derived by applying decode logic based on Reop...   \n",
       "3  Derived by applying decode logic on SRCreation...   \n",
       "4  Direct Mapping to State column in Cases table ...   \n",
       "\n",
       "                                      role_assistant  real_label  index label  \\\n",
       "0                                          pass, N/A           0      1  Pass   \n",
       "1                                          pass, N/A           0      2  Pass   \n",
       "2                                          pass, N/A           0      3  Fail   \n",
       "3  fail, What is significance of FI, please defin...           1      4  Pass   \n",
       "4                                          pass, N/A           0      5  Fail   \n",
       "\n",
       "                                                text  pred_label  \n",
       "0  Direct Mapping to CaseNumber column in KPI tab...           0  \n",
       "1  This is reference key to the DimDataSource tab...           0  \n",
       "2  Derived by applying decode logic based on Reop...           1  \n",
       "3  Derived by applying decode logic on SRCreation...           0  \n",
       "4  Direct Mapping to State column in Cases table ...           1  "
      ]
     },
     "execution_count": 45,
     "metadata": {},
     "output_type": "execute_result"
    }
   ],
   "source": [
    "merged.head()"
   ]
  },
  {
   "cell_type": "code",
   "execution_count": 46,
   "metadata": {},
   "outputs": [],
   "source": [
    "# drop everything but \"text\", \"real_label\", \"pred_label\"\n",
    "merged = merged[['text', 'real_label', 'pred_label']]"
   ]
  },
  {
   "cell_type": "code",
   "execution_count": 47,
   "metadata": {},
   "outputs": [
    {
     "data": {
      "text/html": [
       "<div>\n",
       "<style scoped>\n",
       "    .dataframe tbody tr th:only-of-type {\n",
       "        vertical-align: middle;\n",
       "    }\n",
       "\n",
       "    .dataframe tbody tr th {\n",
       "        vertical-align: top;\n",
       "    }\n",
       "\n",
       "    .dataframe thead th {\n",
       "        text-align: right;\n",
       "    }\n",
       "</style>\n",
       "<table border=\"1\" class=\"dataframe\">\n",
       "  <thead>\n",
       "    <tr style=\"text-align: right;\">\n",
       "      <th></th>\n",
       "      <th>text</th>\n",
       "      <th>real_label</th>\n",
       "      <th>pred_label</th>\n",
       "    </tr>\n",
       "  </thead>\n",
       "  <tbody>\n",
       "    <tr>\n",
       "      <th>0</th>\n",
       "      <td>Direct Mapping to CaseNumber column in KPI tab...</td>\n",
       "      <td>0</td>\n",
       "      <td>0</td>\n",
       "    </tr>\n",
       "    <tr>\n",
       "      <th>1</th>\n",
       "      <td>This is reference key to the DimDataSource tab...</td>\n",
       "      <td>0</td>\n",
       "      <td>0</td>\n",
       "    </tr>\n",
       "    <tr>\n",
       "      <th>2</th>\n",
       "      <td>Derived by applying decode logic based on Reop...</td>\n",
       "      <td>0</td>\n",
       "      <td>1</td>\n",
       "    </tr>\n",
       "    <tr>\n",
       "      <th>3</th>\n",
       "      <td>Derived by applying decode logic on SRCreation...</td>\n",
       "      <td>1</td>\n",
       "      <td>0</td>\n",
       "    </tr>\n",
       "    <tr>\n",
       "      <th>4</th>\n",
       "      <td>Direct Mapping to State column in Cases table ...</td>\n",
       "      <td>0</td>\n",
       "      <td>1</td>\n",
       "    </tr>\n",
       "  </tbody>\n",
       "</table>\n",
       "</div>"
      ],
      "text/plain": [
       "                                                text  real_label  pred_label\n",
       "0  Direct Mapping to CaseNumber column in KPI tab...           0           0\n",
       "1  This is reference key to the DimDataSource tab...           0           0\n",
       "2  Derived by applying decode logic based on Reop...           0           1\n",
       "3  Derived by applying decode logic on SRCreation...           1           0\n",
       "4  Direct Mapping to State column in Cases table ...           0           1"
      ]
     },
     "execution_count": 47,
     "metadata": {},
     "output_type": "execute_result"
    }
   ],
   "source": [
    "merged.head()"
   ]
  },
  {
   "cell_type": "code",
   "execution_count": 48,
   "metadata": {},
   "outputs": [],
   "source": [
    "# calculate accuracy\n",
    "accuracy = (merged['real_label'] == merged['pred_label']).sum() / len(merged)"
   ]
  },
  {
   "cell_type": "code",
   "execution_count": 49,
   "metadata": {},
   "outputs": [
    {
     "data": {
      "text/plain": [
       "np.float64(0.7352941176470589)"
      ]
     },
     "execution_count": 49,
     "metadata": {},
     "output_type": "execute_result"
    }
   ],
   "source": [
    "accuracy"
   ]
  },
  {
   "cell_type": "code",
   "execution_count": 50,
   "metadata": {},
   "outputs": [
    {
     "data": {
      "text/plain": [
       "np.float64(0.0)"
      ]
     },
     "execution_count": 50,
     "metadata": {},
     "output_type": "execute_result"
    }
   ],
   "source": [
    "# calculate precision\n",
    "true_positives = ((merged['real_label'] == 1) & (merged['pred_label'] == 1)).sum()\n",
    "false_positives = ((merged['real_label'] == 0) & (merged['pred_label'] == 1)).sum()\n",
    "precision = true_positives / (true_positives + false_positives)\n",
    "precision"
   ]
  },
  {
   "cell_type": "code",
   "execution_count": 53,
   "metadata": {},
   "outputs": [
    {
     "data": {
      "text/plain": [
       "np.float64(0.0)"
      ]
     },
     "execution_count": 53,
     "metadata": {},
     "output_type": "execute_result"
    }
   ],
   "source": [
    "# calculate recall\n",
    "false_negatives = ((merged['real_label'] == 1) & (merged['pred_label'] == 0)).sum()\n",
    "recall = true_positives / (true_positives + false_negatives)\n",
    "recall"
   ]
  },
  {
   "cell_type": "code",
   "execution_count": 54,
   "metadata": {},
   "outputs": [
    {
     "data": {
      "text/plain": [
       "np.int64(9)"
      ]
     },
     "execution_count": 54,
     "metadata": {},
     "output_type": "execute_result"
    }
   ],
   "source": [
    "false_negatives"
   ]
  },
  {
   "cell_type": "code",
   "execution_count": 55,
   "metadata": {},
   "outputs": [
    {
     "data": {
      "text/plain": [
       "np.int64(9)"
      ]
     },
     "execution_count": 55,
     "metadata": {},
     "output_type": "execute_result"
    }
   ],
   "source": [
    "merged['real_label'].sum()"
   ]
  },
  {
   "cell_type": "code",
   "execution_count": 56,
   "metadata": {},
   "outputs": [
    {
     "data": {
      "text/plain": [
       "np.int64(18)"
      ]
     },
     "execution_count": 56,
     "metadata": {},
     "output_type": "execute_result"
    }
   ],
   "source": [
    "merged['pred_label'].sum()"
   ]
  },
  {
   "cell_type": "code",
   "execution_count": null,
   "metadata": {},
   "outputs": [],
   "source": []
  }
 ],
 "metadata": {
  "kernelspec": {
   "display_name": ".venv",
   "language": "python",
   "name": "python3"
  },
  "language_info": {
   "codemirror_mode": {
    "name": "ipython",
    "version": 3
   },
   "file_extension": ".py",
   "mimetype": "text/x-python",
   "name": "python",
   "nbconvert_exporter": "python",
   "pygments_lexer": "ipython3",
   "version": "3.12.3"
  }
 },
 "nbformat": 4,
 "nbformat_minor": 2
}
