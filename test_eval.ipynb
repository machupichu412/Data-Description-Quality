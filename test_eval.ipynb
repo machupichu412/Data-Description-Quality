{
 "cells": [
  {
   "cell_type": "code",
   "execution_count": 31,
   "metadata": {},
   "outputs": [],
   "source": [
    "import pandas as pd"
   ]
  },
  {
   "cell_type": "code",
   "execution_count": 76,
   "metadata": {},
   "outputs": [],
   "source": [
    "# read in jsonl file\n",
    "test_data = pd.read_json('data/test_ALL_with_labels.jsonl', lines=True)"
   ]
  },
  {
   "cell_type": "code",
   "execution_count": 77,
   "metadata": {},
   "outputs": [],
   "source": [
    "# read in predictions\n",
    "predictions = pd.read_json('inference_results.json')"
   ]
  },
  {
   "cell_type": "code",
   "execution_count": 78,
   "metadata": {},
   "outputs": [
    {
     "data": {
      "text/html": [
       "<div>\n",
       "<style scoped>\n",
       "    .dataframe tbody tr th:only-of-type {\n",
       "        vertical-align: middle;\n",
       "    }\n",
       "\n",
       "    .dataframe tbody tr th {\n",
       "        vertical-align: top;\n",
       "    }\n",
       "\n",
       "    .dataframe thead th {\n",
       "        text-align: right;\n",
       "    }\n",
       "</style>\n",
       "<table border=\"1\" class=\"dataframe\">\n",
       "  <thead>\n",
       "    <tr style=\"text-align: right;\">\n",
       "      <th></th>\n",
       "      <th>index</th>\n",
       "      <th>label</th>\n",
       "      <th>text</th>\n",
       "    </tr>\n",
       "  </thead>\n",
       "  <tbody>\n",
       "    <tr>\n",
       "      <th>0</th>\n",
       "      <td>1</td>\n",
       "      <td>Pass</td>\n",
       "      <td>Direct Mapping to CaseNumber column in KPI tab...</td>\n",
       "    </tr>\n",
       "    <tr>\n",
       "      <th>1</th>\n",
       "      <td>2</td>\n",
       "      <td>Pass</td>\n",
       "      <td>This is reference key to the DimDataSource tab...</td>\n",
       "    </tr>\n",
       "    <tr>\n",
       "      <th>2</th>\n",
       "      <td>3</td>\n",
       "      <td>Fail</td>\n",
       "      <td>Derived by applying decode logic based on Reop...</td>\n",
       "    </tr>\n",
       "    <tr>\n",
       "      <th>3</th>\n",
       "      <td>4</td>\n",
       "      <td>Pass</td>\n",
       "      <td>Derived by applying decode logic on SRCreation...</td>\n",
       "    </tr>\n",
       "    <tr>\n",
       "      <th>4</th>\n",
       "      <td>5</td>\n",
       "      <td>Fail</td>\n",
       "      <td>Direct Mapping to State column in Cases table ...</td>\n",
       "    </tr>\n",
       "  </tbody>\n",
       "</table>\n",
       "</div>"
      ],
      "text/plain": [
       "   index label                                               text\n",
       "0      1  Pass  Direct Mapping to CaseNumber column in KPI tab...\n",
       "1      2  Pass  This is reference key to the DimDataSource tab...\n",
       "2      3  Fail  Derived by applying decode logic based on Reop...\n",
       "3      4  Pass  Derived by applying decode logic on SRCreation...\n",
       "4      5  Fail  Direct Mapping to State column in Cases table ..."
      ]
     },
     "execution_count": 78,
     "metadata": {},
     "output_type": "execute_result"
    }
   ],
   "source": [
    "predictions.head()"
   ]
  },
  {
   "cell_type": "code",
   "execution_count": 79,
   "metadata": {},
   "outputs": [
    {
     "data": {
      "text/html": [
       "<div>\n",
       "<style scoped>\n",
       "    .dataframe tbody tr th:only-of-type {\n",
       "        vertical-align: middle;\n",
       "    }\n",
       "\n",
       "    .dataframe tbody tr th {\n",
       "        vertical-align: top;\n",
       "    }\n",
       "\n",
       "    .dataframe thead th {\n",
       "        text-align: right;\n",
       "    }\n",
       "</style>\n",
       "<table border=\"1\" class=\"dataframe\">\n",
       "  <thead>\n",
       "    <tr style=\"text-align: right;\">\n",
       "      <th></th>\n",
       "      <th>description</th>\n",
       "      <th>fail</th>\n",
       "    </tr>\n",
       "  </thead>\n",
       "  <tbody>\n",
       "    <tr>\n",
       "      <th>0</th>\n",
       "      <td>Direct mapping to AccountTimeLineID column com...</td>\n",
       "      <td>False</td>\n",
       "    </tr>\n",
       "    <tr>\n",
       "      <th>1</th>\n",
       "      <td>This is a reference key to DimDataSource table...</td>\n",
       "      <td>True</td>\n",
       "    </tr>\n",
       "    <tr>\n",
       "      <th>2</th>\n",
       "      <td>Direct mapping to ServicePackageName column fr...</td>\n",
       "      <td>True</td>\n",
       "    </tr>\n",
       "    <tr>\n",
       "      <th>3</th>\n",
       "      <td>This is a reference key to DimSupportAreaPath ...</td>\n",
       "      <td>False</td>\n",
       "    </tr>\n",
       "    <tr>\n",
       "      <th>4</th>\n",
       "      <td>Direct mapping to InitiativeId column in OARIn...</td>\n",
       "      <td>False</td>\n",
       "    </tr>\n",
       "  </tbody>\n",
       "</table>\n",
       "</div>"
      ],
      "text/plain": [
       "                                         description   fail\n",
       "0  Direct mapping to AccountTimeLineID column com...  False\n",
       "1  This is a reference key to DimDataSource table...   True\n",
       "2  Direct mapping to ServicePackageName column fr...   True\n",
       "3  This is a reference key to DimSupportAreaPath ...  False\n",
       "4  Direct mapping to InitiativeId column in OARIn...  False"
      ]
     },
     "execution_count": 79,
     "metadata": {},
     "output_type": "execute_result"
    }
   ],
   "source": [
    "test_data.head()"
   ]
  },
  {
   "cell_type": "code",
   "execution_count": 84,
   "metadata": {},
   "outputs": [
    {
     "data": {
      "text/plain": [
       "'Direct mapping to AccountTimeLineID column coming from MDAP (MSA Data Analytics Platform) source,FactPerformingAndNewCountmeasures_v1 table'"
      ]
     },
     "execution_count": 84,
     "metadata": {},
     "output_type": "execute_result"
    }
   ],
   "source": [
    "test_data.iloc[0]['description']"
   ]
  },
  {
   "cell_type": "code",
   "execution_count": 85,
   "metadata": {},
   "outputs": [],
   "source": [
    "# split each test message into columns in the dataframe\n",
    "# each value int the messages column is a list of dictionaries\n",
    "# each dictionary is a message\n",
    "# we want to split these into columns\n",
    "# we will have a column for each key in the dictionary\n",
    "# we will have a row for each message\n",
    "\n",
    "# def split_messages(messages):\n",
    "#     message_dict = {}\n",
    "#     for message in messages:\n",
    "#         col = \"role\" + \"_\" + message[\"role\"]\n",
    "#         message_dict[col] = message[\"content\"]\n",
    "#     return pd.Series(message_dict)\n",
    "\n",
    "# test_data_processed = test_data['messages'].apply(split_messages)\n",
    "# test_data_processed.head()\n",
    "\n"
   ]
  },
  {
   "cell_type": "code",
   "execution_count": 86,
   "metadata": {},
   "outputs": [],
   "source": [
    "# add label column to the dataframe (first word of role_assistant is the label \"pass\" or \"fail\")\n",
    "# def get_label(messages):\n",
    "#     return messages.split(\", \")[0]\n",
    "\n",
    "# test_data_processed['real_label'] = test_data_processed['role_assistant'].apply(get_label)"
   ]
  },
  {
   "cell_type": "code",
   "execution_count": 87,
   "metadata": {},
   "outputs": [],
   "source": [
    "# test_data_processed.head()"
   ]
  },
  {
   "cell_type": "code",
   "execution_count": 89,
   "metadata": {},
   "outputs": [],
   "source": [
    "# fail is 1, pass is 0\n",
    "test_data['real_label'] = test_data['fail'].apply(lambda x: 1 if x else 0)\n",
    "predictions['pred_label'] = predictions['label'].apply(lambda x: 1 if x == \"Fail\" else 0)"
   ]
  },
  {
   "cell_type": "code",
   "execution_count": 90,
   "metadata": {},
   "outputs": [],
   "source": [
    "# merge the two dataframes on 'text' and 'role_user'\n",
    "\n",
    "merged = pd.merge(test_data, predictions, left_on=['description'], right_on=['text'])\n"
   ]
  },
  {
   "cell_type": "code",
   "execution_count": 91,
   "metadata": {},
   "outputs": [
    {
     "data": {
      "text/html": [
       "<div>\n",
       "<style scoped>\n",
       "    .dataframe tbody tr th:only-of-type {\n",
       "        vertical-align: middle;\n",
       "    }\n",
       "\n",
       "    .dataframe tbody tr th {\n",
       "        vertical-align: top;\n",
       "    }\n",
       "\n",
       "    .dataframe thead th {\n",
       "        text-align: right;\n",
       "    }\n",
       "</style>\n",
       "<table border=\"1\" class=\"dataframe\">\n",
       "  <thead>\n",
       "    <tr style=\"text-align: right;\">\n",
       "      <th></th>\n",
       "      <th>description</th>\n",
       "      <th>fail</th>\n",
       "      <th>real_label</th>\n",
       "      <th>index</th>\n",
       "      <th>label</th>\n",
       "      <th>text</th>\n",
       "      <th>pred_label</th>\n",
       "    </tr>\n",
       "  </thead>\n",
       "  <tbody>\n",
       "    <tr>\n",
       "      <th>0</th>\n",
       "      <td>SurrogateKey generated within UDP NRT to ident...</td>\n",
       "      <td>True</td>\n",
       "      <td>1</td>\n",
       "      <td>30</td>\n",
       "      <td>Pass</td>\n",
       "      <td>SurrogateKey generated within UDP NRT to ident...</td>\n",
       "      <td>0</td>\n",
       "    </tr>\n",
       "    <tr>\n",
       "      <th>1</th>\n",
       "      <td>Timestamp in UTC at which record is updated by...</td>\n",
       "      <td>False</td>\n",
       "      <td>0</td>\n",
       "      <td>47</td>\n",
       "      <td>Fail</td>\n",
       "      <td>Timestamp in UTC at which record is updated by...</td>\n",
       "      <td>1</td>\n",
       "    </tr>\n",
       "    <tr>\n",
       "      <th>2</th>\n",
       "      <td>Timestamp in UTC at which record is updated by...</td>\n",
       "      <td>False</td>\n",
       "      <td>0</td>\n",
       "      <td>47</td>\n",
       "      <td>Fail</td>\n",
       "      <td>Timestamp in UTC at which record is updated by...</td>\n",
       "      <td>1</td>\n",
       "    </tr>\n",
       "  </tbody>\n",
       "</table>\n",
       "</div>"
      ],
      "text/plain": [
       "                                         description   fail  real_label  \\\n",
       "0  SurrogateKey generated within UDP NRT to ident...   True           1   \n",
       "1  Timestamp in UTC at which record is updated by...  False           0   \n",
       "2  Timestamp in UTC at which record is updated by...  False           0   \n",
       "\n",
       "   index label                                               text  pred_label  \n",
       "0     30  Pass  SurrogateKey generated within UDP NRT to ident...           0  \n",
       "1     47  Fail  Timestamp in UTC at which record is updated by...           1  \n",
       "2     47  Fail  Timestamp in UTC at which record is updated by...           1  "
      ]
     },
     "execution_count": 91,
     "metadata": {},
     "output_type": "execute_result"
    }
   ],
   "source": [
    "merged.head()"
   ]
  },
  {
   "cell_type": "code",
   "execution_count": 63,
   "metadata": {},
   "outputs": [],
   "source": [
    "# drop everything but \"text\", \"real_label\", \"pred_label\"\n",
    "merged = merged[['text', 'real_label', 'pred_label']]"
   ]
  },
  {
   "cell_type": "code",
   "execution_count": 64,
   "metadata": {},
   "outputs": [
    {
     "data": {
      "text/html": [
       "<div>\n",
       "<style scoped>\n",
       "    .dataframe tbody tr th:only-of-type {\n",
       "        vertical-align: middle;\n",
       "    }\n",
       "\n",
       "    .dataframe tbody tr th {\n",
       "        vertical-align: top;\n",
       "    }\n",
       "\n",
       "    .dataframe thead th {\n",
       "        text-align: right;\n",
       "    }\n",
       "</style>\n",
       "<table border=\"1\" class=\"dataframe\">\n",
       "  <thead>\n",
       "    <tr style=\"text-align: right;\">\n",
       "      <th></th>\n",
       "      <th>text</th>\n",
       "      <th>real_label</th>\n",
       "      <th>pred_label</th>\n",
       "    </tr>\n",
       "  </thead>\n",
       "  <tbody>\n",
       "    <tr>\n",
       "      <th>0</th>\n",
       "      <td>Direct Mapping to CaseNumber column in KPI tab...</td>\n",
       "      <td>0</td>\n",
       "      <td>0</td>\n",
       "    </tr>\n",
       "    <tr>\n",
       "      <th>1</th>\n",
       "      <td>This is reference key to the DimDataSource tab...</td>\n",
       "      <td>0</td>\n",
       "      <td>0</td>\n",
       "    </tr>\n",
       "    <tr>\n",
       "      <th>2</th>\n",
       "      <td>Derived by applying decode logic based on Reop...</td>\n",
       "      <td>0</td>\n",
       "      <td>1</td>\n",
       "    </tr>\n",
       "    <tr>\n",
       "      <th>3</th>\n",
       "      <td>Derived by applying decode logic on SRCreation...</td>\n",
       "      <td>0</td>\n",
       "      <td>0</td>\n",
       "    </tr>\n",
       "    <tr>\n",
       "      <th>4</th>\n",
       "      <td>Direct Mapping to State column in Cases table ...</td>\n",
       "      <td>0</td>\n",
       "      <td>1</td>\n",
       "    </tr>\n",
       "  </tbody>\n",
       "</table>\n",
       "</div>"
      ],
      "text/plain": [
       "                                                text  real_label  pred_label\n",
       "0  Direct Mapping to CaseNumber column in KPI tab...           0           0\n",
       "1  This is reference key to the DimDataSource tab...           0           0\n",
       "2  Derived by applying decode logic based on Reop...           0           1\n",
       "3  Derived by applying decode logic on SRCreation...           0           0\n",
       "4  Direct Mapping to State column in Cases table ...           0           1"
      ]
     },
     "execution_count": 64,
     "metadata": {},
     "output_type": "execute_result"
    }
   ],
   "source": [
    "merged.head()"
   ]
  },
  {
   "cell_type": "code",
   "execution_count": 65,
   "metadata": {},
   "outputs": [],
   "source": [
    "# calculate accuracy\n",
    "accuracy = (merged['real_label'] == merged['pred_label']).sum() / len(merged)"
   ]
  },
  {
   "cell_type": "code",
   "execution_count": 66,
   "metadata": {},
   "outputs": [
    {
     "data": {
      "text/plain": [
       "np.float64(0.8235294117647058)"
      ]
     },
     "execution_count": 66,
     "metadata": {},
     "output_type": "execute_result"
    }
   ],
   "source": [
    "accuracy"
   ]
  },
  {
   "cell_type": "code",
   "execution_count": 67,
   "metadata": {},
   "outputs": [
    {
     "data": {
      "text/plain": [
       "np.float64(0.0)"
      ]
     },
     "execution_count": 67,
     "metadata": {},
     "output_type": "execute_result"
    }
   ],
   "source": [
    "# calculate precision\n",
    "true_positives = ((merged['real_label'] == 1) & (merged['pred_label'] == 1)).sum()\n",
    "false_positives = ((merged['real_label'] == 0) & (merged['pred_label'] == 1)).sum()\n",
    "precision = true_positives / (true_positives + false_positives)\n",
    "precision"
   ]
  },
  {
   "cell_type": "code",
   "execution_count": 68,
   "metadata": {},
   "outputs": [
    {
     "name": "stderr",
     "output_type": "stream",
     "text": [
      "/var/folders/58/jr_gdrxd4bn3hwrmrhn8x7mh0000gn/T/ipykernel_37999/383907681.py:3: RuntimeWarning: invalid value encountered in scalar divide\n",
      "  recall = true_positives / (true_positives + false_negatives)\n"
     ]
    },
    {
     "data": {
      "text/plain": [
       "np.float64(nan)"
      ]
     },
     "execution_count": 68,
     "metadata": {},
     "output_type": "execute_result"
    }
   ],
   "source": [
    "# calculate recall\n",
    "false_negatives = ((merged['real_label'] == 1) & (merged['pred_label'] == 0)).sum()\n",
    "recall = true_positives / (true_positives + false_negatives)\n",
    "recall"
   ]
  },
  {
   "cell_type": "code",
   "execution_count": 69,
   "metadata": {},
   "outputs": [
    {
     "data": {
      "text/plain": [
       "np.int64(0)"
      ]
     },
     "execution_count": 69,
     "metadata": {},
     "output_type": "execute_result"
    }
   ],
   "source": [
    "false_negatives"
   ]
  },
  {
   "cell_type": "code",
   "execution_count": 70,
   "metadata": {},
   "outputs": [
    {
     "data": {
      "text/plain": [
       "np.int64(0)"
      ]
     },
     "execution_count": 70,
     "metadata": {},
     "output_type": "execute_result"
    }
   ],
   "source": [
    "merged['real_label'].sum()"
   ]
  },
  {
   "cell_type": "code",
   "execution_count": 71,
   "metadata": {},
   "outputs": [
    {
     "data": {
      "text/plain": [
       "np.int64(18)"
      ]
     },
     "execution_count": 71,
     "metadata": {},
     "output_type": "execute_result"
    }
   ],
   "source": [
    "merged['pred_label'].sum()"
   ]
  },
  {
   "cell_type": "code",
   "execution_count": 92,
   "metadata": {},
   "outputs": [
    {
     "data": {
      "text/html": [
       "<div>\n",
       "<style scoped>\n",
       "    .dataframe tbody tr th:only-of-type {\n",
       "        vertical-align: middle;\n",
       "    }\n",
       "\n",
       "    .dataframe tbody tr th {\n",
       "        vertical-align: top;\n",
       "    }\n",
       "\n",
       "    .dataframe thead th {\n",
       "        text-align: right;\n",
       "    }\n",
       "</style>\n",
       "<table border=\"1\" class=\"dataframe\">\n",
       "  <thead>\n",
       "    <tr style=\"text-align: right;\">\n",
       "      <th></th>\n",
       "      <th>index</th>\n",
       "      <th>description</th>\n",
       "      <th>decision</th>\n",
       "      <th>full_reasoning</th>\n",
       "    </tr>\n",
       "  </thead>\n",
       "  <tbody>\n",
       "    <tr>\n",
       "      <th>0</th>\n",
       "      <td>1</td>\n",
       "      <td>Direct mapping to AccountTimeLineID column com...</td>\n",
       "      <td>Pass</td>\n",
       "      <td>Reason:This explanation includes source detail...</td>\n",
       "    </tr>\n",
       "    <tr>\n",
       "      <th>1</th>\n",
       "      <td>2</td>\n",
       "      <td>This is a reference key to DimDataSource table...</td>\n",
       "      <td>Fail</td>\n",
       "      <td>Reason:The description should specify the sour...</td>\n",
       "    </tr>\n",
       "    <tr>\n",
       "      <th>2</th>\n",
       "      <td>3</td>\n",
       "      <td>This is a reference key to DimSupportAreaPath ...</td>\n",
       "      <td>Pass</td>\n",
       "      <td>Reason:This description includes the needed so...</td>\n",
       "    </tr>\n",
       "    <tr>\n",
       "      <th>3</th>\n",
       "      <td>4</td>\n",
       "      <td>Direct mapping to InitiativeId column in OARIn...</td>\n",
       "      <td>Pass</td>\n",
       "      <td>Reason:Provides source identification and tran...</td>\n",
       "    </tr>\n",
       "    <tr>\n",
       "      <th>4</th>\n",
       "      <td>5</td>\n",
       "      <td>This field references the DimGeography table t...</td>\n",
       "      <td>Fail</td>\n",
       "      <td>Reason:The description is not clear enough bec...</td>\n",
       "    </tr>\n",
       "  </tbody>\n",
       "</table>\n",
       "</div>"
      ],
      "text/plain": [
       "   index                                        description decision  \\\n",
       "0      1  Direct mapping to AccountTimeLineID column com...     Pass   \n",
       "1      2  This is a reference key to DimDataSource table...     Fail   \n",
       "2      3  This is a reference key to DimSupportAreaPath ...     Pass   \n",
       "3      4  Direct mapping to InitiativeId column in OARIn...     Pass   \n",
       "4      5  This field references the DimGeography table t...     Fail   \n",
       "\n",
       "                                      full_reasoning  \n",
       "0  Reason:This explanation includes source detail...  \n",
       "1  Reason:The description should specify the sour...  \n",
       "2  Reason:This description includes the needed so...  \n",
       "3  Reason:Provides source identification and tran...  \n",
       "4  Reason:The description is not clear enough bec...  "
      ]
     },
     "execution_count": 92,
     "metadata": {},
     "output_type": "execute_result"
    }
   ],
   "source": [
    "# read in data/cleaned_outputs.json file\n",
    "cleaned_outputs = pd.read_json('data/cleaned_outputs.json')\n",
    "cleaned_outputs.head()"
   ]
  },
  {
   "cell_type": "code",
   "execution_count": 93,
   "metadata": {},
   "outputs": [
    {
     "data": {
      "text/html": [
       "<div>\n",
       "<style scoped>\n",
       "    .dataframe tbody tr th:only-of-type {\n",
       "        vertical-align: middle;\n",
       "    }\n",
       "\n",
       "    .dataframe tbody tr th {\n",
       "        vertical-align: top;\n",
       "    }\n",
       "\n",
       "    .dataframe thead th {\n",
       "        text-align: right;\n",
       "    }\n",
       "</style>\n",
       "<table border=\"1\" class=\"dataframe\">\n",
       "  <thead>\n",
       "    <tr style=\"text-align: right;\">\n",
       "      <th></th>\n",
       "      <th>index</th>\n",
       "      <th>description</th>\n",
       "      <th>decision</th>\n",
       "      <th>full_reasoning</th>\n",
       "      <th>pred_label</th>\n",
       "    </tr>\n",
       "  </thead>\n",
       "  <tbody>\n",
       "    <tr>\n",
       "      <th>0</th>\n",
       "      <td>1</td>\n",
       "      <td>Direct mapping to AccountTimeLineID column com...</td>\n",
       "      <td>Pass</td>\n",
       "      <td>Reason:This explanation includes source detail...</td>\n",
       "      <td>0</td>\n",
       "    </tr>\n",
       "    <tr>\n",
       "      <th>1</th>\n",
       "      <td>2</td>\n",
       "      <td>This is a reference key to DimDataSource table...</td>\n",
       "      <td>Fail</td>\n",
       "      <td>Reason:The description should specify the sour...</td>\n",
       "      <td>1</td>\n",
       "    </tr>\n",
       "    <tr>\n",
       "      <th>2</th>\n",
       "      <td>3</td>\n",
       "      <td>This is a reference key to DimSupportAreaPath ...</td>\n",
       "      <td>Pass</td>\n",
       "      <td>Reason:This description includes the needed so...</td>\n",
       "      <td>0</td>\n",
       "    </tr>\n",
       "    <tr>\n",
       "      <th>3</th>\n",
       "      <td>4</td>\n",
       "      <td>Direct mapping to InitiativeId column in OARIn...</td>\n",
       "      <td>Pass</td>\n",
       "      <td>Reason:Provides source identification and tran...</td>\n",
       "      <td>0</td>\n",
       "    </tr>\n",
       "    <tr>\n",
       "      <th>4</th>\n",
       "      <td>5</td>\n",
       "      <td>This field references the DimGeography table t...</td>\n",
       "      <td>Fail</td>\n",
       "      <td>Reason:The description is not clear enough bec...</td>\n",
       "      <td>1</td>\n",
       "    </tr>\n",
       "  </tbody>\n",
       "</table>\n",
       "</div>"
      ],
      "text/plain": [
       "   index                                        description decision  \\\n",
       "0      1  Direct mapping to AccountTimeLineID column com...     Pass   \n",
       "1      2  This is a reference key to DimDataSource table...     Fail   \n",
       "2      3  This is a reference key to DimSupportAreaPath ...     Pass   \n",
       "3      4  Direct mapping to InitiativeId column in OARIn...     Pass   \n",
       "4      5  This field references the DimGeography table t...     Fail   \n",
       "\n",
       "                                      full_reasoning  pred_label  \n",
       "0  Reason:This explanation includes source detail...           0  \n",
       "1  Reason:The description should specify the sour...           1  \n",
       "2  Reason:This description includes the needed so...           0  \n",
       "3  Reason:Provides source identification and tran...           0  \n",
       "4  Reason:The description is not clear enough bec...           1  "
      ]
     },
     "execution_count": 93,
     "metadata": {},
     "output_type": "execute_result"
    }
   ],
   "source": [
    "# compare the cleaned outputs to the predictions row by row\n",
    "# if the cleaned output is the same as the prediction, then the prediction is correct\n",
    "\n",
    "cleaned_outputs['pred_label'] = cleaned_outputs['decision'].apply(lambda x: 1 if x == \"Fail\" else 0)\n",
    "cleaned_outputs.head()"
   ]
  },
  {
   "cell_type": "code",
   "execution_count": 96,
   "metadata": {},
   "outputs": [
    {
     "data": {
      "text/html": [
       "<div>\n",
       "<style scoped>\n",
       "    .dataframe tbody tr th:only-of-type {\n",
       "        vertical-align: middle;\n",
       "    }\n",
       "\n",
       "    .dataframe tbody tr th {\n",
       "        vertical-align: top;\n",
       "    }\n",
       "\n",
       "    .dataframe thead th {\n",
       "        text-align: right;\n",
       "    }\n",
       "</style>\n",
       "<table border=\"1\" class=\"dataframe\">\n",
       "  <thead>\n",
       "    <tr style=\"text-align: right;\">\n",
       "      <th></th>\n",
       "      <th>index</th>\n",
       "      <th>description</th>\n",
       "      <th>decision</th>\n",
       "      <th>full_reasoning</th>\n",
       "      <th>pred_label</th>\n",
       "      <th>real_label</th>\n",
       "    </tr>\n",
       "  </thead>\n",
       "  <tbody>\n",
       "    <tr>\n",
       "      <th>0</th>\n",
       "      <td>1</td>\n",
       "      <td>Direct mapping to AccountTimeLineID column com...</td>\n",
       "      <td>Pass</td>\n",
       "      <td>Reason:This explanation includes source detail...</td>\n",
       "      <td>0</td>\n",
       "      <td>0</td>\n",
       "    </tr>\n",
       "    <tr>\n",
       "      <th>1</th>\n",
       "      <td>2</td>\n",
       "      <td>This is a reference key to DimDataSource table...</td>\n",
       "      <td>Fail</td>\n",
       "      <td>Reason:The description should specify the sour...</td>\n",
       "      <td>1</td>\n",
       "      <td>1</td>\n",
       "    </tr>\n",
       "    <tr>\n",
       "      <th>2</th>\n",
       "      <td>3</td>\n",
       "      <td>This is a reference key to DimSupportAreaPath ...</td>\n",
       "      <td>Pass</td>\n",
       "      <td>Reason:This description includes the needed so...</td>\n",
       "      <td>0</td>\n",
       "      <td>1</td>\n",
       "    </tr>\n",
       "    <tr>\n",
       "      <th>3</th>\n",
       "      <td>4</td>\n",
       "      <td>Direct mapping to InitiativeId column in OARIn...</td>\n",
       "      <td>Pass</td>\n",
       "      <td>Reason:Provides source identification and tran...</td>\n",
       "      <td>0</td>\n",
       "      <td>0</td>\n",
       "    </tr>\n",
       "    <tr>\n",
       "      <th>4</th>\n",
       "      <td>5</td>\n",
       "      <td>This field references the DimGeography table t...</td>\n",
       "      <td>Fail</td>\n",
       "      <td>Reason:The description is not clear enough bec...</td>\n",
       "      <td>1</td>\n",
       "      <td>0</td>\n",
       "    </tr>\n",
       "  </tbody>\n",
       "</table>\n",
       "</div>"
      ],
      "text/plain": [
       "   index                                        description decision  \\\n",
       "0      1  Direct mapping to AccountTimeLineID column com...     Pass   \n",
       "1      2  This is a reference key to DimDataSource table...     Fail   \n",
       "2      3  This is a reference key to DimSupportAreaPath ...     Pass   \n",
       "3      4  Direct mapping to InitiativeId column in OARIn...     Pass   \n",
       "4      5  This field references the DimGeography table t...     Fail   \n",
       "\n",
       "                                      full_reasoning  pred_label  real_label  \n",
       "0  Reason:This explanation includes source detail...           0           0  \n",
       "1  Reason:The description should specify the sour...           1           1  \n",
       "2  Reason:This description includes the needed so...           0           1  \n",
       "3  Reason:Provides source identification and tran...           0           0  \n",
       "4  Reason:The description is not clear enough bec...           1           0  "
      ]
     },
     "execution_count": 96,
     "metadata": {},
     "output_type": "execute_result"
    }
   ],
   "source": [
    "# append real_label to the cleaned_outputs dataframe\n",
    "\n",
    "cleaned_outputs['real_label'] = test_data['real_label']\n",
    "cleaned_outputs.head()\n"
   ]
  },
  {
   "cell_type": "code",
   "execution_count": 98,
   "metadata": {},
   "outputs": [
    {
     "data": {
      "text/plain": [
       "np.float64(0.4909090909090909)"
      ]
     },
     "execution_count": 98,
     "metadata": {},
     "output_type": "execute_result"
    }
   ],
   "source": [
    "# calculate accuracy\n",
    "accuracy = (cleaned_outputs['real_label'] == cleaned_outputs['pred_label']).sum() / len(cleaned_outputs)\n",
    "accuracy"
   ]
  },
  {
   "cell_type": "code",
   "execution_count": null,
   "metadata": {},
   "outputs": [],
   "source": []
  }
 ],
 "metadata": {
  "kernelspec": {
   "display_name": ".venv",
   "language": "python",
   "name": "python3"
  },
  "language_info": {
   "codemirror_mode": {
    "name": "ipython",
    "version": 3
   },
   "file_extension": ".py",
   "mimetype": "text/x-python",
   "name": "python",
   "nbconvert_exporter": "python",
   "pygments_lexer": "ipython3",
   "version": "3.12.3"
  }
 },
 "nbformat": 4,
 "nbformat_minor": 2
}
