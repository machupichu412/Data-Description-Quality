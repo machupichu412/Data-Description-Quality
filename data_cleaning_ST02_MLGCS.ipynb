{
 "cells": [
  {
   "cell_type": "code",
   "execution_count": 19,
   "metadata": {},
   "outputs": [],
   "source": [
    "import pandas as pd\n",
    "import numpy as np\n",
    "import json"
   ]
  },
  {
   "cell_type": "code",
   "execution_count": 20,
   "metadata": {},
   "outputs": [
    {
     "data": {
      "text/plain": [
       "(1671, 5)"
      ]
     },
     "execution_count": 20,
     "metadata": {},
     "output_type": "execute_result"
    }
   ],
   "source": [
    "df = pd.read_csv('data/ST02_MC_MLGCS_NextDay_Tech_Desc_Reformatted.csv')\n",
    "df.shape"
   ]
  },
  {
   "cell_type": "code",
   "execution_count": 21,
   "metadata": {},
   "outputs": [
    {
     "data": {
      "text/html": [
       "<div>\n",
       "<style scoped>\n",
       "    .dataframe tbody tr th:only-of-type {\n",
       "        vertical-align: middle;\n",
       "    }\n",
       "\n",
       "    .dataframe tbody tr th {\n",
       "        vertical-align: top;\n",
       "    }\n",
       "\n",
       "    .dataframe thead th {\n",
       "        text-align: right;\n",
       "    }\n",
       "</style>\n",
       "<table border=\"1\" class=\"dataframe\">\n",
       "  <thead>\n",
       "    <tr style=\"text-align: right;\">\n",
       "      <th></th>\n",
       "      <th>Unnamed: 0</th>\n",
       "      <th>L1 Review</th>\n",
       "      <th>L2 Review</th>\n",
       "      <th>L3: IAR Review</th>\n",
       "      <th>Unnamed: 4</th>\n",
       "    </tr>\n",
       "  </thead>\n",
       "  <tbody>\n",
       "    <tr>\n",
       "      <th>0</th>\n",
       "      <td>TechnicalDescription</td>\n",
       "      <td>L1 Review Comment</td>\n",
       "      <td>L2 Review Comment</td>\n",
       "      <td>Review Comment L3</td>\n",
       "      <td>NaN</td>\n",
       "    </tr>\n",
       "    <tr>\n",
       "      <th>1</th>\n",
       "      <td>This table contains details for issue and reso...</td>\n",
       "      <td>NaN</td>\n",
       "      <td>Ok</td>\n",
       "      <td>ok</td>\n",
       "      <td>NaN</td>\n",
       "    </tr>\n",
       "    <tr>\n",
       "      <th>2</th>\n",
       "      <td>Surrogate key  generated on  SupportTopicFullP...</td>\n",
       "      <td>NaN</td>\n",
       "      <td>Ok</td>\n",
       "      <td>ok</td>\n",
       "      <td>NaN</td>\n",
       "    </tr>\n",
       "    <tr>\n",
       "      <th>3</th>\n",
       "      <td>Timestamp in UTC at which record is inserted b...</td>\n",
       "      <td>NaN</td>\n",
       "      <td>Ok</td>\n",
       "      <td>ok</td>\n",
       "      <td>NaN</td>\n",
       "    </tr>\n",
       "    <tr>\n",
       "      <th>4</th>\n",
       "      <td>Timestamp in UTC at which record is updated by...</td>\n",
       "      <td>NaN</td>\n",
       "      <td>Ok</td>\n",
       "      <td>ok</td>\n",
       "      <td>NaN</td>\n",
       "    </tr>\n",
       "  </tbody>\n",
       "</table>\n",
       "</div>"
      ],
      "text/plain": [
       "                                          Unnamed: 0          L1 Review  \\\n",
       "0                               TechnicalDescription  L1 Review Comment   \n",
       "1  This table contains details for issue and reso...                NaN   \n",
       "2  Surrogate key  generated on  SupportTopicFullP...                NaN   \n",
       "3  Timestamp in UTC at which record is inserted b...                NaN   \n",
       "4  Timestamp in UTC at which record is updated by...                NaN   \n",
       "\n",
       "           L2 Review     L3: IAR Review  Unnamed: 4  \n",
       "0  L2 Review Comment  Review Comment L3         NaN  \n",
       "1                 Ok                 ok         NaN  \n",
       "2                 Ok                 ok         NaN  \n",
       "3                 Ok                 ok         NaN  \n",
       "4                 Ok                 ok         NaN  "
      ]
     },
     "execution_count": 21,
     "metadata": {},
     "output_type": "execute_result"
    }
   ],
   "source": [
    "df.head()"
   ]
  },
  {
   "cell_type": "code",
   "execution_count": 22,
   "metadata": {},
   "outputs": [],
   "source": [
    "df.columns = df.iloc[0]  # use the first row as the new header\n",
    "df = df[1:]              # drop the first row from the data\n",
    "df.reset_index(drop=True, inplace=True)"
   ]
  },
  {
   "cell_type": "code",
   "execution_count": 23,
   "metadata": {},
   "outputs": [
    {
     "data": {
      "text/plain": [
       "Index(['TechnicalDescription',    'L1 Review Comment',    'L2 Review Comment',\n",
       "          'Review Comment L3',                    nan],\n",
       "      dtype='object', name=0)"
      ]
     },
     "execution_count": 23,
     "metadata": {},
     "output_type": "execute_result"
    }
   ],
   "source": [
    "df.columns"
   ]
  },
  {
   "cell_type": "code",
   "execution_count": 24,
   "metadata": {},
   "outputs": [],
   "source": [
    "col_to_check = df.columns[4]\n",
    "\n",
    "# Drop it only if all values are NaN\n",
    "if df[col_to_check].isna().all():\n",
    "    df = df.drop(columns=col_to_check)"
   ]
  },
  {
   "cell_type": "code",
   "execution_count": 25,
   "metadata": {},
   "outputs": [],
   "source": [
    "df = df.dropna(subset=['L1 Review Comment', 'L2 Review Comment', 'Review Comment L3'], how='all').reset_index(drop=True)"
   ]
  },
  {
   "cell_type": "code",
   "execution_count": 26,
   "metadata": {},
   "outputs": [],
   "source": [
    "cols_to_check = ['TechnicalDescription', 'L1 Review Comment', 'L2 Review Comment', 'Review Comment L3']\n",
    "\n",
    "df = df[~df.apply(lambda row: list(row.values) == cols_to_check, axis=1)].reset_index(drop=True)"
   ]
  },
  {
   "cell_type": "code",
   "execution_count": 27,
   "metadata": {},
   "outputs": [],
   "source": [
    "df = df[~df.apply(lambda row: row.astype(str).str.contains('L1 Review', na=False).any(), axis=1)].reset_index(drop=True)"
   ]
  },
  {
   "cell_type": "code",
   "execution_count": 28,
   "metadata": {},
   "outputs": [
    {
     "name": "stdout",
     "output_type": "stream",
     "text": [
      "(216, 4)\n"
     ]
    },
    {
     "data": {
      "text/html": [
       "<div>\n",
       "<style scoped>\n",
       "    .dataframe tbody tr th:only-of-type {\n",
       "        vertical-align: middle;\n",
       "    }\n",
       "\n",
       "    .dataframe tbody tr th {\n",
       "        vertical-align: top;\n",
       "    }\n",
       "\n",
       "    .dataframe thead th {\n",
       "        text-align: right;\n",
       "    }\n",
       "</style>\n",
       "<table border=\"1\" class=\"dataframe\">\n",
       "  <thead>\n",
       "    <tr style=\"text-align: right;\">\n",
       "      <th></th>\n",
       "      <th>TechnicalDescription</th>\n",
       "      <th>L1 Review Comment</th>\n",
       "      <th>L2 Review Comment</th>\n",
       "      <th>Review Comment L3</th>\n",
       "    </tr>\n",
       "  </thead>\n",
       "  <tbody>\n",
       "    <tr>\n",
       "      <th>12</th>\n",
       "      <td>This table contains the details for case resol...</td>\n",
       "      <td>NaN</td>\n",
       "      <td>OK</td>\n",
       "      <td>Add the source and source table names and grai...</td>\n",
       "    </tr>\n",
       "    <tr>\n",
       "      <th>17</th>\n",
       "      <td>This table contains Online Safety Team Queues,...</td>\n",
       "      <td>NaN</td>\n",
       "      <td>Ok - I am guessing this I some type of ticket ...</td>\n",
       "      <td>ok</td>\n",
       "    </tr>\n",
       "    <tr>\n",
       "      <th>45</th>\n",
       "      <td>This table contains Customer data coming from ...</td>\n",
       "      <td>NaN</td>\n",
       "      <td>Ok</td>\n",
       "      <td>Add the source and source table names and grai...</td>\n",
       "    </tr>\n",
       "    <tr>\n",
       "      <th>50</th>\n",
       "      <td>This atrrribte is derived by calculating hex s...</td>\n",
       "      <td>NaN</td>\n",
       "      <td>Ok</td>\n",
       "      <td>It is not a decode logic. change accordingly.\\...</td>\n",
       "    </tr>\n",
       "    <tr>\n",
       "      <th>56</th>\n",
       "      <td>This is a reference key to DimDate table to ge...</td>\n",
       "      <td>NaN</td>\n",
       "      <td>OK</td>\n",
       "      <td>If it is a direct mapping to Commerical attrib...</td>\n",
       "    </tr>\n",
       "  </tbody>\n",
       "</table>\n",
       "</div>"
      ],
      "text/plain": [
       "0                                TechnicalDescription L1 Review Comment  \\\n",
       "12  This table contains the details for case resol...               NaN   \n",
       "17  This table contains Online Safety Team Queues,...               NaN   \n",
       "45  This table contains Customer data coming from ...               NaN   \n",
       "50  This atrrribte is derived by calculating hex s...               NaN   \n",
       "56  This is a reference key to DimDate table to ge...               NaN   \n",
       "\n",
       "0                                   L2 Review Comment  \\\n",
       "12                                                 OK   \n",
       "17  Ok - I am guessing this I some type of ticket ...   \n",
       "45                                                 Ok   \n",
       "50                                                 Ok   \n",
       "56                                                 OK   \n",
       "\n",
       "0                                   Review Comment L3  \n",
       "12  Add the source and source table names and grai...  \n",
       "17                                                 ok  \n",
       "45  Add the source and source table names and grai...  \n",
       "50  It is not a decode logic. change accordingly.\\...  \n",
       "56  If it is a direct mapping to Commerical attrib...  "
      ]
     },
     "execution_count": 28,
     "metadata": {},
     "output_type": "execute_result"
    }
   ],
   "source": [
    "columns_to_check = [\"L1 Review Comment\", \"L2 Review Comment\", \"Review Comment L3\"]\n",
    "\n",
    "# Function to check if a row should be kept\n",
    "def valid_row(row):\n",
    "    # Check if at least one column is NOT 'ok' or NaN\n",
    "    has_meaningful_comment = any([str(x).strip().lower() != 'ok'and str(x).lower() != 'looks good' and pd.notnull(x) for x in row])\n",
    "    return has_meaningful_comment\n",
    "\n",
    "# Apply the filtering function\n",
    "fail_descriptions = df[df[columns_to_check].apply(valid_row, axis=1)]\n",
    "\n",
    "# Display filtered DataFrame\n",
    "print(fail_descriptions.shape)\n",
    "fail_descriptions.head()"
   ]
  },
  {
   "cell_type": "code",
   "execution_count": 29,
   "metadata": {},
   "outputs": [
    {
     "data": {
      "text/html": [
       "<div>\n",
       "<style scoped>\n",
       "    .dataframe tbody tr th:only-of-type {\n",
       "        vertical-align: middle;\n",
       "    }\n",
       "\n",
       "    .dataframe tbody tr th {\n",
       "        vertical-align: top;\n",
       "    }\n",
       "\n",
       "    .dataframe thead th {\n",
       "        text-align: right;\n",
       "    }\n",
       "</style>\n",
       "<table border=\"1\" class=\"dataframe\">\n",
       "  <thead>\n",
       "    <tr style=\"text-align: right;\">\n",
       "      <th></th>\n",
       "      <th>TechnicalDescription</th>\n",
       "      <th>L1 Review Comment</th>\n",
       "      <th>L2 Review Comment</th>\n",
       "      <th>Review Comment L3</th>\n",
       "    </tr>\n",
       "  </thead>\n",
       "  <tbody>\n",
       "    <tr>\n",
       "      <th>0</th>\n",
       "      <td>This table contains details for issue and reso...</td>\n",
       "      <td>NaN</td>\n",
       "      <td>Ok</td>\n",
       "      <td>ok</td>\n",
       "    </tr>\n",
       "    <tr>\n",
       "      <th>1</th>\n",
       "      <td>Surrogate key  generated on  SupportTopicFullP...</td>\n",
       "      <td>NaN</td>\n",
       "      <td>Ok</td>\n",
       "      <td>ok</td>\n",
       "    </tr>\n",
       "    <tr>\n",
       "      <th>2</th>\n",
       "      <td>Timestamp in UTC at which record is inserted b...</td>\n",
       "      <td>NaN</td>\n",
       "      <td>Ok</td>\n",
       "      <td>ok</td>\n",
       "    </tr>\n",
       "    <tr>\n",
       "      <th>3</th>\n",
       "      <td>Timestamp in UTC at which record is updated by...</td>\n",
       "      <td>NaN</td>\n",
       "      <td>Ok</td>\n",
       "      <td>ok</td>\n",
       "    </tr>\n",
       "    <tr>\n",
       "      <th>4</th>\n",
       "      <td>Direct mapping to column SupportTopicFullPath ...</td>\n",
       "      <td>NaN</td>\n",
       "      <td>Ok</td>\n",
       "      <td>ok</td>\n",
       "    </tr>\n",
       "    <tr>\n",
       "      <th>...</th>\n",
       "      <td>...</td>\n",
       "      <td>...</td>\n",
       "      <td>...</td>\n",
       "      <td>...</td>\n",
       "    </tr>\n",
       "    <tr>\n",
       "      <th>1569</th>\n",
       "      <td>Direct mapping to CASEID column coming from Sp...</td>\n",
       "      <td>ok</td>\n",
       "      <td>NaN</td>\n",
       "      <td>NaN</td>\n",
       "    </tr>\n",
       "    <tr>\n",
       "      <th>1570</th>\n",
       "      <td>Direct mapping to IssueCodeL4 column containin...</td>\n",
       "      <td>ok</td>\n",
       "      <td>NaN</td>\n",
       "      <td>NaN</td>\n",
       "    </tr>\n",
       "    <tr>\n",
       "      <th>1571</th>\n",
       "      <td>Direct mapping to BotHandledBy column containi...</td>\n",
       "      <td>ok</td>\n",
       "      <td>NaN</td>\n",
       "      <td>NaN</td>\n",
       "    </tr>\n",
       "    <tr>\n",
       "      <th>1572</th>\n",
       "      <td>Direct mapping to ProductCategory column conta...</td>\n",
       "      <td>ok</td>\n",
       "      <td>NaN</td>\n",
       "      <td>NaN</td>\n",
       "    </tr>\n",
       "    <tr>\n",
       "      <th>1573</th>\n",
       "      <td>Direct mapping to Account column containing St...</td>\n",
       "      <td>ok</td>\n",
       "      <td>NaN</td>\n",
       "      <td>NaN</td>\n",
       "    </tr>\n",
       "  </tbody>\n",
       "</table>\n",
       "<p>1358 rows × 4 columns</p>\n",
       "</div>"
      ],
      "text/plain": [
       "0                                  TechnicalDescription L1 Review Comment  \\\n",
       "0     This table contains details for issue and reso...               NaN   \n",
       "1     Surrogate key  generated on  SupportTopicFullP...               NaN   \n",
       "2     Timestamp in UTC at which record is inserted b...               NaN   \n",
       "3     Timestamp in UTC at which record is updated by...               NaN   \n",
       "4     Direct mapping to column SupportTopicFullPath ...               NaN   \n",
       "...                                                 ...               ...   \n",
       "1569  Direct mapping to CASEID column coming from Sp...                ok   \n",
       "1570  Direct mapping to IssueCodeL4 column containin...                ok   \n",
       "1571  Direct mapping to BotHandledBy column containi...                ok   \n",
       "1572  Direct mapping to ProductCategory column conta...                ok   \n",
       "1573  Direct mapping to Account column containing St...                ok   \n",
       "\n",
       "0    L2 Review Comment Review Comment L3  \n",
       "0                   Ok                ok  \n",
       "1                   Ok                ok  \n",
       "2                   Ok                ok  \n",
       "3                   Ok                ok  \n",
       "4                   Ok                ok  \n",
       "...                ...               ...  \n",
       "1569               NaN               NaN  \n",
       "1570               NaN               NaN  \n",
       "1571               NaN               NaN  \n",
       "1572               NaN               NaN  \n",
       "1573               NaN               NaN  \n",
       "\n",
       "[1358 rows x 4 columns]"
      ]
     },
     "execution_count": 29,
     "metadata": {},
     "output_type": "execute_result"
    }
   ],
   "source": [
    "# correct descriptions\n",
    "# Function to check if a row should be kept\n",
    "def pass_row(row):\n",
    "    # Check if at least one column is NOT 'ok' or NaN\n",
    "    has_meaningful_comment = not any([str(x).strip().lower() != 'ok'and str(x).lower() != 'looks good' and pd.notnull(x) for x in row])\n",
    "    return has_meaningful_comment\n",
    "\n",
    "# Apply the filtering function\n",
    "pass_descriptions = df[df[columns_to_check].apply(pass_row, axis=1)]\n",
    "\n",
    "# Display filtered DataFrame\n",
    "pass_descriptions"
   ]
  },
  {
   "cell_type": "code",
   "execution_count": 30,
   "metadata": {},
   "outputs": [
    {
     "name": "stderr",
     "output_type": "stream",
     "text": [
      "/var/folders/58/jr_gdrxd4bn3hwrmrhn8x7mh0000gn/T/ipykernel_43515/4226531694.py:10: SettingWithCopyWarning: \n",
      "A value is trying to be set on a copy of a slice from a DataFrame.\n",
      "Try using .loc[row_indexer,col_indexer] = value instead\n",
      "\n",
      "See the caveats in the documentation: https://pandas.pydata.org/pandas-docs/stable/user_guide/indexing.html#returning-a-view-versus-a-copy\n",
      "  fail_descriptions['Review Comment L3'] = fail_descriptions['Review Comment L3'].replace('ref rno - 9 review comments', ref_rno_9)\n"
     ]
    }
   ],
   "source": [
    "#Ref RNO 9 is a referenced row in the sheet\n",
    "ref_rno_9 = '''If it is a direct mapping to Commerical attribute then add the sentence that it is a direct mapping to xyz column in commercial similar to  rno - 60 as Logic - .....\n",
    "Otherwise use desc below to write the logic:\n",
    "Ref desc below - SubmitterEmployeeKey -This is a reference key to EmpMapData entity present within MLGCS datamart.\n",
    "Logic - CSIEscalation and EmpMapData tables are joined on EmpMapData.EmployeeEmail and CSIEscalation.SubmitterEmail \n",
    "coming from Critsit source and EmployeeKey is picked from EmpMapData table to populate SubmitterEmployeeKey.\n",
    "\n",
    "e.g.-2: This is a reference key to DimGeography table to get more details about customer region related to the messaging impressions data.\n",
    "Logic -'DisplayName' column from 'Domain_Geo' static domain file coming from Excel file source provided by CPR buisness, is joined with 'Market' column in DimGeography to pick GeographyKey'''\n",
    "fail_descriptions['Review Comment L3'] = fail_descriptions['Review Comment L3'].replace('ref rno - 9 review comments', ref_rno_9)"
   ]
  },
  {
   "cell_type": "code",
   "execution_count": 31,
   "metadata": {},
   "outputs": [
    {
     "data": {
      "text/plain": [
       "Index(['TechnicalDescription', 'L1 Review Comment', 'L2 Review Comment',\n",
       "       'Review Comment L3'],\n",
       "      dtype='object', name=0)"
      ]
     },
     "execution_count": 31,
     "metadata": {},
     "output_type": "execute_result"
    }
   ],
   "source": [
    "fail_descriptions.columns"
   ]
  },
  {
   "cell_type": "code",
   "execution_count": 32,
   "metadata": {},
   "outputs": [],
   "source": [
    "#output technical description, review columns to json\n",
    "fail_descriptions[['TechnicalDescription', 'L1 Review Comment', 'L2 Review Comment', 'Review Comment L3']].to_json('data/comments_ST02_MLGCS.json', orient='records')"
   ]
  },
  {
   "cell_type": "code",
   "execution_count": 33,
   "metadata": {},
   "outputs": [],
   "source": [
    "# create new test dataframe with columns \"description\" and \"fail\"\n",
    "temp_df1 = pd.DataFrame(columns=['description', 'fail', 'reason'])"
   ]
  },
  {
   "cell_type": "code",
   "execution_count": 34,
   "metadata": {},
   "outputs": [],
   "source": [
    "# include all technical descriptions as \"description\" and \"pass\" as 1\n",
    "temp_df1['description'] = pass_descriptions['TechnicalDescription']\n",
    "temp_df1['fail'] = 0\n",
    "temp_df1['reason'] = \"N/A\""
   ]
  },
  {
   "cell_type": "code",
   "execution_count": 35,
   "metadata": {},
   "outputs": [
    {
     "data": {
      "text/plain": [
       "(1358, 3)"
      ]
     },
     "execution_count": 35,
     "metadata": {},
     "output_type": "execute_result"
    }
   ],
   "source": [
    "temp_df1.shape"
   ]
  },
  {
   "cell_type": "code",
   "execution_count": 36,
   "metadata": {},
   "outputs": [
    {
     "data": {
      "text/html": [
       "<div>\n",
       "<style scoped>\n",
       "    .dataframe tbody tr th:only-of-type {\n",
       "        vertical-align: middle;\n",
       "    }\n",
       "\n",
       "    .dataframe tbody tr th {\n",
       "        vertical-align: top;\n",
       "    }\n",
       "\n",
       "    .dataframe thead th {\n",
       "        text-align: right;\n",
       "    }\n",
       "</style>\n",
       "<table border=\"1\" class=\"dataframe\">\n",
       "  <thead>\n",
       "    <tr style=\"text-align: right;\">\n",
       "      <th></th>\n",
       "      <th>description</th>\n",
       "      <th>fail</th>\n",
       "      <th>reason</th>\n",
       "    </tr>\n",
       "  </thead>\n",
       "  <tbody>\n",
       "    <tr>\n",
       "      <th>0</th>\n",
       "      <td>This Attribute has a static value - &lt;3001&gt; upl...</td>\n",
       "      <td>1</td>\n",
       "      <td>Provide the logic for surrogate key generation...</td>\n",
       "    </tr>\n",
       "    <tr>\n",
       "      <th>1</th>\n",
       "      <td>Direct mapping to ARRType column coming from D...</td>\n",
       "      <td>1</td>\n",
       "      <td>Is it a static source file? Re-check and phras...</td>\n",
       "    </tr>\n",
       "    <tr>\n",
       "      <th>2</th>\n",
       "      <td>Direct mapping to ServiceName column coming fr...</td>\n",
       "      <td>1</td>\n",
       "      <td>Is it a static source file? Re-check and phras...</td>\n",
       "    </tr>\n",
       "    <tr>\n",
       "      <th>3</th>\n",
       "      <td>Direct mapping to ServicePackageSKU column com...</td>\n",
       "      <td>1</td>\n",
       "      <td>Is it a static source file? Re-check and phras...</td>\n",
       "    </tr>\n",
       "    <tr>\n",
       "      <th>4</th>\n",
       "      <td>This Attribute has a static value (2001,2002,2...</td>\n",
       "      <td>1</td>\n",
       "      <td>Provide the logic for surrogate key generation...</td>\n",
       "    </tr>\n",
       "  </tbody>\n",
       "</table>\n",
       "</div>"
      ],
      "text/plain": [
       "                                         description  fail  \\\n",
       "0  This Attribute has a static value - <3001> upl...     1   \n",
       "1  Direct mapping to ARRType column coming from D...     1   \n",
       "2  Direct mapping to ServiceName column coming fr...     1   \n",
       "3  Direct mapping to ServicePackageSKU column com...     1   \n",
       "4  This Attribute has a static value (2001,2002,2...     1   \n",
       "\n",
       "                                              reason  \n",
       "0  Provide the logic for surrogate key generation...  \n",
       "1  Is it a static source file? Re-check and phras...  \n",
       "2  Is it a static source file? Re-check and phras...  \n",
       "3  Is it a static source file? Re-check and phras...  \n",
       "4  Provide the logic for surrogate key generation...  "
      ]
     },
     "execution_count": 36,
     "metadata": {},
     "output_type": "execute_result"
    }
   ],
   "source": [
    "# read in reverse_engineered.json\n",
    "# Make all ReverseEngineeredDescriptions as \"description\" and \"pass\" as 0\n",
    "\n",
    "with open('data/reverse_engineered.json') as f:\n",
    "    data = json.load(f)\n",
    "    temp_df2 = pd.DataFrame(data)\n",
    "\n",
    "# reformat the columns to match test_df\n",
    "temp_df2['fail'] = 1\n",
    "temp_df2 = temp_df2.rename(columns={\"reverse_engineered_description\": \"description\"})\n",
    "temp_df2['reason'] = temp_df2['comment']\n",
    "temp_df2 = temp_df2.drop(columns=['comment'])\n",
    "temp_df2 = temp_df2.drop(columns=['final_description'])\n",
    "temp_df2.head()"
   ]
  },
  {
   "cell_type": "code",
   "execution_count": 37,
   "metadata": {},
   "outputs": [
    {
     "data": {
      "text/html": [
       "<div>\n",
       "<style scoped>\n",
       "    .dataframe tbody tr th:only-of-type {\n",
       "        vertical-align: middle;\n",
       "    }\n",
       "\n",
       "    .dataframe tbody tr th {\n",
       "        vertical-align: top;\n",
       "    }\n",
       "\n",
       "    .dataframe thead th {\n",
       "        text-align: right;\n",
       "    }\n",
       "</style>\n",
       "<table border=\"1\" class=\"dataframe\">\n",
       "  <thead>\n",
       "    <tr style=\"text-align: right;\">\n",
       "      <th></th>\n",
       "      <th>TechnicalDescription</th>\n",
       "      <th>L1 Review Comment</th>\n",
       "      <th>L2 Review Comment</th>\n",
       "      <th>Review Comment L3</th>\n",
       "    </tr>\n",
       "  </thead>\n",
       "  <tbody>\n",
       "    <tr>\n",
       "      <th>0</th>\n",
       "      <td>This table contains details for issue and reso...</td>\n",
       "      <td>NaN</td>\n",
       "      <td>Ok</td>\n",
       "      <td>ok</td>\n",
       "    </tr>\n",
       "    <tr>\n",
       "      <th>1</th>\n",
       "      <td>Surrogate key  generated on  SupportTopicFullP...</td>\n",
       "      <td>NaN</td>\n",
       "      <td>Ok</td>\n",
       "      <td>ok</td>\n",
       "    </tr>\n",
       "    <tr>\n",
       "      <th>2</th>\n",
       "      <td>Timestamp in UTC at which record is inserted b...</td>\n",
       "      <td>NaN</td>\n",
       "      <td>Ok</td>\n",
       "      <td>ok</td>\n",
       "    </tr>\n",
       "    <tr>\n",
       "      <th>3</th>\n",
       "      <td>Timestamp in UTC at which record is updated by...</td>\n",
       "      <td>NaN</td>\n",
       "      <td>Ok</td>\n",
       "      <td>ok</td>\n",
       "    </tr>\n",
       "    <tr>\n",
       "      <th>4</th>\n",
       "      <td>Direct mapping to column SupportTopicFullPath ...</td>\n",
       "      <td>NaN</td>\n",
       "      <td>Ok</td>\n",
       "      <td>ok</td>\n",
       "    </tr>\n",
       "  </tbody>\n",
       "</table>\n",
       "</div>"
      ],
      "text/plain": [
       "0                               TechnicalDescription L1 Review Comment  \\\n",
       "0  This table contains details for issue and reso...               NaN   \n",
       "1  Surrogate key  generated on  SupportTopicFullP...               NaN   \n",
       "2  Timestamp in UTC at which record is inserted b...               NaN   \n",
       "3  Timestamp in UTC at which record is updated by...               NaN   \n",
       "4  Direct mapping to column SupportTopicFullPath ...               NaN   \n",
       "\n",
       "0 L2 Review Comment Review Comment L3  \n",
       "0                Ok                ok  \n",
       "1                Ok                ok  \n",
       "2                Ok                ok  \n",
       "3                Ok                ok  \n",
       "4                Ok                ok  "
      ]
     },
     "execution_count": 37,
     "metadata": {},
     "output_type": "execute_result"
    }
   ],
   "source": [
    "df.head()"
   ]
  },
  {
   "cell_type": "code",
   "execution_count": 38,
   "metadata": {},
   "outputs": [],
   "source": [
    "# output all final technical descriptions to json\n",
    "all_technical_descriptions = df[['TechnicalDescription']]\n",
    "all_technical_descriptions.to_json('data/final_descs_ST02_MLGCS.json', orient='records')"
   ]
  },
  {
   "cell_type": "code",
   "execution_count": null,
   "metadata": {},
   "outputs": [],
   "source": []
  }
 ],
 "metadata": {
  "kernelspec": {
   "display_name": ".venv",
   "language": "python",
   "name": "python3"
  },
  "language_info": {
   "codemirror_mode": {
    "name": "ipython",
    "version": 3
   },
   "file_extension": ".py",
   "mimetype": "text/x-python",
   "name": "python",
   "nbconvert_exporter": "python",
   "pygments_lexer": "ipython3",
   "version": "3.12.3"
  }
 },
 "nbformat": 4,
 "nbformat_minor": 2
}
